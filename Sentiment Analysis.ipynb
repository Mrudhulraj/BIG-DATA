{
 "cells": [
  {
   "cell_type": "code",
   "execution_count": 14,
   "id": "ec1de7a8",
   "metadata": {},
   "outputs": [],
   "source": [
    "import pandas as pd\n",
    "import numpy as np"
   ]
  },
  {
   "cell_type": "code",
   "execution_count": 5,
   "id": "40fbca26",
   "metadata": {},
   "outputs": [],
   "source": [
    "df=pd.read_csv(\"SGD_1000_hinge.csv\")"
   ]
  },
  {
   "cell_type": "code",
   "execution_count": 7,
   "id": "09068464",
   "metadata": {},
   "outputs": [
    {
     "data": {
      "text/html": [
       "<div>\n",
       "<style scoped>\n",
       "    .dataframe tbody tr th:only-of-type {\n",
       "        vertical-align: middle;\n",
       "    }\n",
       "\n",
       "    .dataframe tbody tr th {\n",
       "        vertical-align: top;\n",
       "    }\n",
       "\n",
       "    .dataframe thead th {\n",
       "        text-align: right;\n",
       "    }\n",
       "</style>\n",
       "<table border=\"1\" class=\"dataframe\">\n",
       "  <thead>\n",
       "    <tr style=\"text-align: right;\">\n",
       "      <th></th>\n",
       "      <th>Score</th>\n",
       "      <th>Accuracy</th>\n",
       "      <th>Precision</th>\n",
       "      <th>Recall</th>\n",
       "      <th>F1 Score</th>\n",
       "      <th>max_f1score</th>\n",
       "    </tr>\n",
       "  </thead>\n",
       "  <tbody>\n",
       "    <tr>\n",
       "      <th>0</th>\n",
       "      <td>-1.027305</td>\n",
       "      <td>0.493197</td>\n",
       "      <td>0.486726</td>\n",
       "      <td>0.376712</td>\n",
       "      <td>0.424710</td>\n",
       "      <td>0.00000</td>\n",
       "    </tr>\n",
       "    <tr>\n",
       "      <th>1</th>\n",
       "      <td>-0.917722</td>\n",
       "      <td>0.521452</td>\n",
       "      <td>0.534759</td>\n",
       "      <td>0.632911</td>\n",
       "      <td>0.579710</td>\n",
       "      <td>0.42471</td>\n",
       "    </tr>\n",
       "    <tr>\n",
       "      <th>2</th>\n",
       "      <td>-1.007346</td>\n",
       "      <td>0.498221</td>\n",
       "      <td>0.538462</td>\n",
       "      <td>0.049296</td>\n",
       "      <td>0.090323</td>\n",
       "      <td>0.57971</td>\n",
       "    </tr>\n",
       "    <tr>\n",
       "      <th>3</th>\n",
       "      <td>-1.121507</td>\n",
       "      <td>0.473846</td>\n",
       "      <td>0.534884</td>\n",
       "      <td>0.259887</td>\n",
       "      <td>0.349810</td>\n",
       "      <td>0.57971</td>\n",
       "    </tr>\n",
       "    <tr>\n",
       "      <th>4</th>\n",
       "      <td>-1.058271</td>\n",
       "      <td>0.486301</td>\n",
       "      <td>0.518519</td>\n",
       "      <td>0.184211</td>\n",
       "      <td>0.271845</td>\n",
       "      <td>0.57971</td>\n",
       "    </tr>\n",
       "  </tbody>\n",
       "</table>\n",
       "</div>"
      ],
      "text/plain": [
       "      Score  Accuracy  Precision    Recall  F1 Score  max_f1score\n",
       "0 -1.027305  0.493197   0.486726  0.376712  0.424710      0.00000\n",
       "1 -0.917722  0.521452   0.534759  0.632911  0.579710      0.42471\n",
       "2 -1.007346  0.498221   0.538462  0.049296  0.090323      0.57971\n",
       "3 -1.121507  0.473846   0.534884  0.259887  0.349810      0.57971\n",
       "4 -1.058271  0.486301   0.518519  0.184211  0.271845      0.57971"
      ]
     },
     "execution_count": 7,
     "metadata": {},
     "output_type": "execute_result"
    }
   ],
   "source": [
    "df.head()"
   ]
  },
  {
   "cell_type": "code",
   "execution_count": 6,
   "id": "8884c507",
   "metadata": {},
   "outputs": [],
   "source": [
    "import matplotlib.pyplot as plt"
   ]
  },
  {
   "cell_type": "code",
   "execution_count": 24,
   "id": "db6794ad",
   "metadata": {},
   "outputs": [
    {
     "data": {
      "text/plain": [
       "[<matplotlib.lines.Line2D at 0x2253e96d2c8>]"
      ]
     },
     "execution_count": 24,
     "metadata": {},
     "output_type": "execute_result"
    },
    {
     "data": {
      "image/png": "[encoded data removed]",
      "text/plain": [
       "<Figure size 432x288 with 1 Axes>"
      ]
     },
     "metadata": {
      "needs_background": "light"
     },
     "output_type": "display_data"
    }
   ],
   "source": [
    "plt.ylabel('Precision')\n",
    "plt.xlabel('Recall')\n",
    "\n",
    "plt.plot(np.sort(df[\"Recall\"]), np.sort(df[\"Precision\"]))\n"
   ]
  },
  {
   "cell_type": "code",
   "execution_count": null,
   "id": "23d4cc68",
   "metadata": {},
   "outputs": [],
   "source": []
  }
 ],
 "metadata": {
  "kernelspec": {
   "display_name": "Python 3 (ipykernel)",
   "language": "python",
   "name": "python3"
  },
  "language_info": {
   "codemirror_mode": {
    "name": "ipython",
    "version": 3
   },
   "file_extension": ".py",
   "mimetype": "text/x-python",
   "name": "python",
   "nbconvert_exporter": "python",
   "pygments_lexer": "ipython3",
   "version": "3.7.11"
  }
 },
 "nbformat": 4,
 "nbformat_minor": 5
}
